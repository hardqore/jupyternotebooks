{
 "cells": [
  {
   "cell_type": "code",
   "execution_count": null,
   "id": "27a8969b-83cb-4191-bfa2-b340527907da",
   "metadata": {},
   "outputs": [],
   "source": [
    "import pandas as pd\n",
    "import json\n",
    "pd.set_option('display.max_columns', None)"
   ]
  },
  {
   "cell_type": "code",
   "execution_count": null,
   "id": "cb28f939-bf2e-49f0-a7f5-be55e9b40b71",
   "metadata": {},
   "outputs": [],
   "source": [
    "df = pd.read_csv('appqore-ngl-app-data-30-days-20250617.csv', sep=\",\", encoding='cp1252')"
   ]
  },
  {
   "cell_type": "code",
   "execution_count": null,
   "id": "cba68cef-b14f-4ae9-9b18-1d741b0c6f6a",
   "metadata": {},
   "outputs": [],
   "source": [
    "df['ap_insuredphonehome'] = df['ap_insuredphonehome'].astype(str)"
   ]
  },
  {
   "cell_type": "code",
   "execution_count": null,
   "id": "667445bc-de6d-42eb-9426-6711868849ab",
   "metadata": {},
   "outputs": [],
   "source": [
    "df['ap_insureddob'] = pd.to_datetime(df['ap_insureddob'])"
   ]
  },
  {
   "cell_type": "code",
   "execution_count": null,
   "id": "d662e63f-e75f-4544-b1ed-9a934a3f48aa",
   "metadata": {},
   "outputs": [],
   "source": [
    "df['agentSignatureDate'] = pd.to_datetime(df['agentSignatureDate'], errors=\"coerce\")"
   ]
  },
  {
   "cell_type": "code",
   "execution_count": null,
   "id": "eee36808-2f2f-467f-b3ee-04bd4d321b6f",
   "metadata": {},
   "outputs": [],
   "source": [
    "df['al_policyeffectivedateinitial'] = pd.to_datetime(df['al_policyeffectivedateinitial'], errors=\"coerce\")"
   ]
  },
  {
   "cell_type": "code",
   "execution_count": null,
   "id": "0afafa46-f1cd-40fa-be01-69eeb9543795",
   "metadata": {},
   "outputs": [],
   "source": [
    "df['al_policyeffectivedate'] = pd.to_datetime(df['al_policyeffectivedate'], errors=\"coerce\")"
   ]
  },
  {
   "cell_type": "code",
   "execution_count": null,
   "id": "d3a69f64-233b-47d6-8109-a4fd5c73a799",
   "metadata": {},
   "outputs": [],
   "source": [
    "df['al_receiveddate'] = pd.to_datetime(df['al_receiveddate'], errors=\"coerce\")"
   ]
  },
  {
   "cell_type": "code",
   "execution_count": null,
   "id": "028781b2-90d7-4253-ac58-18a74bf26553",
   "metadata": {},
   "outputs": [],
   "source": [
    "df['al_startdate'] = pd.to_datetime(df['al_lastdate'], errors=\"coerce\")"
   ]
  },
  {
   "cell_type": "code",
   "execution_count": null,
   "id": "c89a661a-3caf-468e-b717-e2c386aad165",
   "metadata": {},
   "outputs": [],
   "source": [
    "df['apr_eftdemandacct'] = df['apr_eftdemandacct'].astype(str)"
   ]
  },
  {
   "cell_type": "code",
   "execution_count": null,
   "id": "915b3568-ec4a-44f0-b1c2-f8282dc16565",
   "metadata": {},
   "outputs": [],
   "source": [
    "df['apr_onetimeeftdemandacct'] = df['apr_onetimeeftdemandacct'].astype(str)"
   ]
  },
  {
   "cell_type": "code",
   "execution_count": null,
   "id": "b64d71c7-7576-4f83-a805-4b51d22174f1",
   "metadata": {},
   "outputs": [],
   "source": [
    "df.columns"
   ]
  },
  {
   "cell_type": "code",
   "execution_count": null,
   "id": "d71cbe75-bfa0-4914-8d87-e2448c3ce626",
   "metadata": {},
   "outputs": [],
   "source": [
    "df = df[['aa_searchnameproducer','aa_hierarchyid','al_pinidlogin','al_burialtype','ap_insuredphonehome','ap_insureddob','ar_instname','al_state','apl_mnemonicplancode','al_recordnumber','al_insco','al_assemblypage','al_lastpage','al_policystatus','al_status','al_startdate','al_lastdate','al_reviewvisited','al_productlinecode','al_mailingpreference','al_mailingpreferencepin','al_applicationID','al_funeralvalue','al_irrevocableassignmentform','al_policyeffectivedate','al_receiveddate','al_replacement','al_accountcode','al_batchid','al_underwritingclass','al_growthrate','al_nonforfeitureoption','al_appliedcash','al_pendingcash','al_totalcash','al_twopoliciesind','al_tempfaceamt','al_policynote','al_pfa','al_policyeffectivedateinitial','al_otherinsurance','al_policytype','al_eapp','al_rider','al_premface','al_customerID','agentSignatureDate','alphaGrowthRate','growthRateMP','alphaGrowthRateMP','al_itemNumber','aa_recordnumber','aa_insco','aa_seqno','aa_producerid','aa_production','aa_commission','aa_type','ac_recordnumber','ac_seqno','ac_checktype','ac_checknumber','ac_nameoncheck','ac_checkamount','ac_sharedcheckrn','aft_recordNumber','aft_insco','aft_paymentType','aft_amount','aft_response','ap_recordnumber','ap_insseqno','ap_insfirstname','ap_insmidname','ap_inslastname','ap_insSuffix','ap_insuredsex','ap_insssnbr','ap_instaxidtype','ap_insureddob','ap_insaddressline1','ap_insaddressline2','ap_inscity','ap_insstate','ap_inszip','ap_inszip4','ap_trustparticipantid','ap_altaddressline1','ap_altaddressline2','ap_altcity','ap_altstate','ap_altzip','ap_altzip4','ap_altphone','ap_insemailaddress','ap_insuredphonework','ap_insuredphoneworkext','ap_insuredisowner','ap_insuredispayor','ap_ownerispayor','pfa_recordNumber','pfa_funeralMemorialService','pfa_gravesideService','pfa_cremationService','pfa_casketMake','pfa_casketModel','pfa_casketAmount','pfa_obcAmount','pfa_urnAmount','pfa_totalServicesAmount','pfa_merchandiseAmount','pfa_nonGuarCashAdvance','pfa_totalFuneralAmount','pfa_packageType','pfa_totalGuaranteed','pfa_otherCharges','pfa_discounts','apl_recordnumber','apl_paymentperiod','apl_billingmethod','apl_frequency','apl_baseunits','apl_receiptamount','apl_plancode','apl_premiumdiff','apl_premiumdiffresolution','apl_numberpremiumspaid','apl_policyid','apl_premium','apl_seqno','apl_payplan','apl_lumpsum','apl_origpremium','apl_underwritingclass','apr_recordnumber','apr_eftbankname','apr_eftsignature','apr_eftbillday','apr_eftrouting','apr_eftfedresnbr','apr_eftabanbr','apr_eftabacheckdigit','apr_eftdemandacct','apr_eftaccounttype','apr_cctype','apr_ccnumber','apr_ccexpdate','apr_ccownername','apr_initialpremium','apr_pinidlistbill','apr_onetimeeft','apr_onetimeeftfedresnbr','apr_onetimeeftabanbr','apr_onetimeeftabacheckdigit','apr_onetimeeftdemandacct','apr_onetimeeftaccounttype','apr_onetimeeftsignature','apr_onetimeeftbankname','apr_onetimeamount','apr_ftniFirstBillDate','apr_ftniBillWeek','apr_ftniBillWeekday','apr_TPMAutoFillPaymentID','ar_recordnumber','ar_seqno','ar_ridermnemonicplancode','ar_riderunits','ar_riderbenefittype','ar_riderpremium','ar_type','ar_relation','ar_instname','ar_firstname','ar_midname','ar_lastname','ar_suffix','ar_dob','ar_sex','ar_addressline1','ar_addressline2','ar_city','ar_state','ar_zip','ar_zip4','ar_emailaddress','ar_phonehome','ar_phonework','ar_phoneworkext','ar_taxid','ar_taxidtype','ar_pinid','ar_pinidtype','ar_christianStatus','ar_citizen','ar_resident','ar_military']]"
   ]
  },
  {
   "cell_type": "code",
   "execution_count": null,
   "id": "7b0c0a6d-2318-4deb-980e-9e18c5c62970",
   "metadata": {},
   "outputs": [],
   "source": [
    "df.to_csv('appqore-ngl-app-data-30-days-20250617-final.csv', index=False)"
   ]
  },
  {
   "cell_type": "code",
   "execution_count": null,
   "id": "ddb8920b-0749-4cfd-ac10-0a6e03ba13ed",
   "metadata": {},
   "outputs": [],
   "source": [
    "pd.to_datetime(df['ap_insureddob']).dt.date"
   ]
  },
  {
   "cell_type": "code",
   "execution_count": null,
   "id": "5bb6aa80-d47b-4bd7-957c-d0359be5c471",
   "metadata": {},
   "outputs": [],
   "source": [
    "pd.to_datetime(df['ap_insureddob'],format='%m/%d/%y %H:%M:%S')"
   ]
  },
  {
   "cell_type": "code",
   "execution_count": null,
   "id": "4e85b8d3-2621-4c74-ad4c-6f2e547c60ea",
   "metadata": {},
   "outputs": [],
   "source": []
  }
 ],
 "metadata": {
  "kernelspec": {
   "display_name": "Python 3 (ipykernel)",
   "language": "python",
   "name": "python3"
  },
  "language_info": {
   "codemirror_mode": {
    "name": "ipython",
    "version": 3
   },
   "file_extension": ".py",
   "mimetype": "text/x-python",
   "name": "python",
   "nbconvert_exporter": "python",
   "pygments_lexer": "ipython3",
   "version": "3.10.12"
  }
 },
 "nbformat": 4,
 "nbformat_minor": 5
}
