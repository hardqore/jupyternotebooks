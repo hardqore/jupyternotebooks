{
 "cells": [
  {
   "cell_type": "code",
   "execution_count": 1,
   "id": "21100a40-1f1c-4db6-b56d-1100dd93ec5e",
   "metadata": {},
   "outputs": [],
   "source": [
    "import json\n",
    "from jsonschema import validate"
   ]
  },
  {
   "cell_type": "code",
   "execution_count": 2,
   "id": "660b5f85-193e-48d3-8367-4c1d9b719884",
   "metadata": {},
   "outputs": [],
   "source": [
    "schema_path = 'accord_json_schema.json'\n",
    "with open(schema_path, 'r') as fp:\n",
    "  schema = json.load(fp)"
   ]
  },
  {
   "cell_type": "code",
   "execution_count": 4,
   "id": "b21d3803-edae-4ccf-8c83-2cdf3f56bfec",
   "metadata": {},
   "outputs": [],
   "source": [
    "policy_path = 'NP20015731.json'\n",
    "with open(policy_path, 'r') as fp:\n",
    "  policy = json.load(fp)\n",
    "validate(instance=policy, schema=schema)"
   ]
  },
  {
   "cell_type": "code",
   "execution_count": null,
   "id": "1c32a71a-f749-4dad-a711-83edbd39aab8",
   "metadata": {},
   "outputs": [],
   "source": []
  }
 ],
 "metadata": {
  "kernelspec": {
   "display_name": "Python 3 (ipykernel)",
   "language": "python",
   "name": "python3"
  },
  "language_info": {
   "codemirror_mode": {
    "name": "ipython",
    "version": 3
   },
   "file_extension": ".py",
   "mimetype": "text/x-python",
   "name": "python",
   "nbconvert_exporter": "python",
   "pygments_lexer": "ipython3",
   "version": "3.10.12"
  }
 },
 "nbformat": 4,
 "nbformat_minor": 5
}
